{
 "cells": [
  {
   "cell_type": "code",
   "execution_count": 7,
   "metadata": {},
   "outputs": [],
   "source": [
    "%matplotlib inline\n",
    "%config InlineBackend.figure_format = 'retina'\n",
    "\n",
    "import numpy as np\n",
    "import pandas as pd\n",
    "from random import uniform\n",
    "import matplotlib.pyplot as plt"
   ]
  },
  {
   "cell_type": "code",
   "execution_count": 8,
   "metadata": {},
   "outputs": [],
   "source": [
    "class Neuron:\n",
    "    'Neuron is a superclass that defines the global and default neuron\\'s behaviour'\n",
    "    \n",
    "    def __init__(self, dimension, learning_rate):\n",
    "        \"\"\"Neuron Constructor.\n",
    "            #self: means an object scope method, not passed by programmer, but by the interpreter\n",
    "            @dimension: size of dimension (for XOR it is 2 entries/inputs)\n",
    "            @output_nodes: an int amount of neurons nodes that process the data & retrieve the result\n",
    "            @learning_rate: the rate/size of the learning/training process (it's as lower as good)\n",
    "        \"\"\"\n",
    "        \n",
    "        # Set attrs\n",
    "        self.dimension = dimension\n",
    "        self.lrate = learning_rate\n",
    "        \n",
    "        # Init empty vars that will be updated\n",
    "        self.out = None\n",
    "        self.error = None\n",
    "        \n",
    "        # Init the aux variables\n",
    "        self.weights = [uniform(0,1) for x in range(dimension)]\n",
    "        self.bias = uniform(0, 1)\n",
    "       \n",
    "    def activation(self, fx):\n",
    "        return 1/(1 + np.exp(-fx))\n",
    "    \n",
    "    def update(self, inputs):\n",
    "        \"\"\"update the weights & it bias\n",
    "            @input = matrix with the train inputs\n",
    "        \"\"\"\n",
    "\n",
    "        counter = 0\n",
    "        for i in inputs:\n",
    "            delta = self.lrate * self.error\n",
    "            self.weights[counter] -= (delta*i)\n",
    "            self.bias -= delta\n",
    "            counter+=1\n",
    "\n",
    "    def feedforward(self, inputs):\n",
    "        counter = 0\n",
    "        sum = self.bias\n",
    "        for i in inputs:\n",
    "            sum += i * self.weights[counter]\n",
    "            counter += 1\n",
    "        self.out = self.activation(sum)\n",
    "        \n",
    "    def backward(self):\n",
    "        \"\"\"\n",
    "            Defined on it children\n",
    "        \"\"\"\n",
    "        pass        "
   ]
  },
  {
   "cell_type": "code",
   "execution_count": 9,
   "metadata": {},
   "outputs": [],
   "source": [
    "class HiddenNeuron(Neuron):\n",
    "    'HiddenNeuron is a child of Neuron that receives feedforward from input layer and the backprop from the Output'\n",
    "    \n",
    "    def __init__(self, dim, lrate=0.2):\n",
    "        super(HiddenNeuron, self).__init__(dim, lrate)\n",
    "\n",
    "    def backward(self, deltas, weights):\n",
    "        sum = 0\n",
    "        size = len(deltas)\n",
    "        for x in range(size):\n",
    "            sum += deltas[x] * weights[x]\n",
    "        self.error = self.out * (1 - self.out) * sum"
   ]
  },
  {
   "cell_type": "code",
   "execution_count": 10,
   "metadata": {},
   "outputs": [],
   "source": [
    "class OutputNeuron(Neuron):\n",
    "    'OutputNeuron is a child of Neuron that receives feedforward from hidden layer, backprop to hidden & retrieves it final result'\n",
    "    def __init__(self, dim, lrate=0.2):\n",
    "        super(OutputNeuron, self).__init__(dim, lrate)\n",
    "\n",
    "    def backward(self, target):\n",
    "        self.error = self.out * (1 - self.out) * (self.out - target)"
   ]
  },
  {
   "cell_type": "code",
   "execution_count": 11,
   "metadata": {},
   "outputs": [],
   "source": [
    "class Model:\n",
    "    'Model is the way  Optional class documentation string'\n",
    "    \n",
    "    def __init__(self):\n",
    "        self.hidden = [HiddenNeuron(2) for i in range(2)]\n",
    "        self.output = OutputNeuron(2)\n",
    "\n",
    "    def predict(self, input):\n",
    "        temp = []\n",
    "        for x in range(2):\n",
    "            self.hidden[x].feedforward(input)\n",
    "            temp.append(self.hidden[x].out)\n",
    "        self.output.feedforward(temp)\n",
    "        return self.output.out\n",
    "\n",
    "    def train(self, inputs, targets, epochs):\n",
    "        it = 0\n",
    "        i = 0\n",
    "        size = len(inputs)\n",
    "        while it < epochs:\n",
    "            if i == size:\n",
    "                i = 0\n",
    "            feature = inputs[i]\n",
    "#             print('Feature: ' + str(feature))\n",
    "#             print('Output weights : ' + str(self.output.weights))\n",
    "#             print('Hidden 1 weights : ' + str(self.hidden[0].weights))\n",
    "#             print('Hidden 2 weights : ' + str(self.hidden[1].weights))\n",
    "            temp = []\n",
    "            for x in range(2):\n",
    "                self.hidden[x].feedforward(feature)\n",
    "                temp.append(self.hidden[x].out)\n",
    "            self.output.feedforward(temp)\n",
    "            self.output.backward(targets[i])\n",
    "            deltas = []\n",
    "            deltas.append(self.output.error)\n",
    "            weights = []\n",
    "            weights.append([self.output.weights[0]])\n",
    "            weights.append([self.output.weights[1]])\n",
    "            for x in range(2):\n",
    "                self.hidden[x].backward(deltas, weights[x])\n",
    "            for x in range(2):\n",
    "                self.hidden[x].update(feature)\n",
    "            self.output.update(temp)\n",
    "            it += 1\n",
    "            i += 1"
   ]
  },
  {
   "cell_type": "code",
   "execution_count": 12,
   "metadata": {},
   "outputs": [
    {
     "name": "stdout",
     "output_type": "stream",
     "text": [
      "[0, 0] => 0.02169601206075658\n",
      "[0, 1] => 0.9801826926686691\n",
      "[1, 0] => 0.980095178172251\n",
      "[1, 1] => 0.02244996213016803\n"
     ]
    }
   ],
   "source": [
    "inputs = [[0,0], [0,1], [1,0], [1,1]]\n",
    "outputs = [0, 1, 1, 0]\n",
    "epochs = 100000\n",
    "\n",
    "m = Model()\n",
    "\n",
    "m.train(inputs, outputs, epochs)\n",
    "\n",
    "for i in inputs:\n",
    "    p = m.predict(i)\n",
    "    print(str(i) + ' => ' + str(p))"
   ]
  },
  {
   "cell_type": "code",
   "execution_count": null,
   "metadata": {},
   "outputs": [],
   "source": []
  }
 ],
 "metadata": {
  "kernelspec": {
   "display_name": "Python 3",
   "language": "python",
   "name": "python3"
  },
  "language_info": {
   "codemirror_mode": {
    "name": "ipython",
    "version": 3
   },
   "file_extension": ".py",
   "mimetype": "text/x-python",
   "name": "python",
   "nbconvert_exporter": "python",
   "pygments_lexer": "ipython3",
   "version": "3.6.5"
  }
 },
 "nbformat": 4,
 "nbformat_minor": 2
}
